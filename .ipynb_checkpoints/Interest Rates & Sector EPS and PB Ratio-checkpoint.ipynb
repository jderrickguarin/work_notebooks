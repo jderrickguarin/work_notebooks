{
 "cells": [
  {
   "cell_type": "code",
   "execution_count": null,
   "metadata": {},
   "outputs": [],
   "source": [
    "from os.path import join\n",
    "import numpy as np\n",
    "import pandas as pd\n",
    "import seaborn as sns\n",
    "import matplotlib.pyplot as plt\n",
    "from datetime import datetime\n",
    "from statsmodels.tsa.stattools import adfuller, grangercausalitytests\n",
    "from statsmodels.tsa.statespace.sarimax import SARIMAX \n",
    "from statsmodels.graphics.tsaplots import plot_acf, plot_pacf\n",
    "from statsmodels.tsa.api import VAR\n",
    "from sklearn.metrics import r2_score\n",
    "from scipy.stats import pearsonr\n"
   ]
  },
  {
   "cell_type": "code",
   "execution_count": null,
   "metadata": {},
   "outputs": [],
   "source": [
    "data = join('datasets', 'eps_policy_data.csv')\n",
    "\n",
    "df = pd.read_csv(data, parse_dates=[0], index_col=0, squeeze=True).dropna()\n",
    "\n",
    "df.head(10)"
   ]
  },
  {
   "cell_type": "code",
   "execution_count": null,
   "metadata": {},
   "outputs": [],
   "source": [
    "sns.set(style=\"darkgrid\")\n",
    "\n",
    "fig = plt.figure(figsize=(16,8))\n",
    "\n",
    "plt.plot(df.M1PRNFL, color='tab:gray', label='MSCI Financials F12 EPS')\n",
    "plt.plot(df.pb, color='darkred', label='MSCI Financials F12 P/B')\n",
    "plt.plot(df.rr_rate, color='tab:blue', label='Reverse Repurchase Rate')\n",
    "#plt.title('')\n",
    "plt.legend()\n",
    "plt.xlabel('Quarters')\n",
    "\n",
    "plt.show()"
   ]
  },
  {
   "cell_type": "code",
   "execution_count": null,
   "metadata": {},
   "outputs": [],
   "source": [
    "def normal_plots():\n",
    "    fig = plt.figure(figsize=(16,4))\n",
    "\n",
    "    plt.subplot(1,3,1)\n",
    "    plt.hist(df.M1PRNFL)\n",
    "    plt.title('MSCI Financials F12 EPS')\n",
    "    plt.ylabel('Count')\n",
    "\n",
    "    plt.subplot(1,3,2)\n",
    "    plt.hist(df.pb)\n",
    "    plt.title('MSCI Financials F12 P/B')\n",
    "    plt.ylabel('Count')\n",
    "    \n",
    "    plt.subplot(1,3,3)\n",
    "    plt.hist(df.rr_rate)\n",
    "    plt.title('Reverse Repurchase Rate')\n",
    "    plt.ylabel('Count')\n",
    "    \n",
    "    plt.show()\n",
    "\n",
    "normal_plots()"
   ]
  },
  {
   "cell_type": "code",
   "execution_count": null,
   "metadata": {},
   "outputs": [],
   "source": [
    "#testing for stationarity\n",
    "def adf_test(series, name=None, num=None):\n",
    "    result = adfuller(series)\n",
    "    if name == None:\n",
    "        name = str(series.name)\n",
    "    if num != None:\n",
    "        name = 'Series %s' % str(num)\n",
    "    print('\\n%s:' %name)\n",
    "    print('ADF Statistic: %f' % result[0])\n",
    "    print('p-value: %f' % result[1])\n",
    "\n",
    "    \n",
    "eps = df.M1PRNFL\n",
    "p_book = df.pb\n",
    "policy = df.rr_rate\n",
    "\n",
    "adf_test(eps)\n",
    "print('Sample size: %s' %len(eps))\n",
    "adf_test(p_book)\n",
    "print('Sample size: %s' %len(p_book))\n",
    "adf_test(policy)\n",
    "print('Sample size: %s' %len(policy))"
   ]
  },
  {
   "cell_type": "code",
   "execution_count": null,
   "metadata": {},
   "outputs": [],
   "source": [
    "# The following code consolidates transofrmation steps into one (and backtracks transformations)\n",
    "def normalize(series):\n",
    "    ave, stdev = series.mean(), series.std()\n",
    "    series = (series-ave)/stdev\n",
    "    return series\n",
    "\n",
    "def annual_vol(series):\n",
    "    stdevs = series.groupby(series.index.year).std()\n",
    "    return series.index.map(lambda d: stdevs.loc[d.year])\n",
    "\n",
    "def variance_correct(series):\n",
    "    return series/annual_vol(series)\n",
    "\n",
    "def qtr_mean(series):\n",
    "    means = series.groupby(series.index.month).mean()\n",
    "    return series.index.map(lambda d: means.loc[d.month])\n",
    "\n",
    "def seasonality_correct(series):\n",
    "    return series - qtr_mean(series)\n",
    "\n",
    "def make_stationary(*data, plot=False, headers=True):\n",
    "    stdata = []\n",
    "    for d in data:\n",
    "        if headers == True:\n",
    "            header = d.name\n",
    "        d = normalize(d)\n",
    "        d = d.diff().fillna(method=\"bfill\")\n",
    "        d = variance_correct(d)\n",
    "        #d = seasonality_correct(d).fillna(method=\"bfill\")\n",
    "        d.name = header\n",
    "        stdata.append(d)\n",
    "        \n",
    "    if len(stdata) == 1:\n",
    "        return stdata[0]\n",
    "    else:\n",
    "        return stdata"
   ]
  },
  {
   "cell_type": "code",
   "execution_count": null,
   "metadata": {},
   "outputs": [],
   "source": [
    "series = make_stationary(eps, p_book, policy)\n",
    "\n",
    "series[2].head(50)"
   ]
  },
  {
   "cell_type": "code",
   "execution_count": null,
   "metadata": {},
   "outputs": [],
   "source": [
    "#series = make_stationary(eps, p_book, policy)\n",
    "series = [eps, p_book, policy]\n",
    "nseries = []\n",
    "\n",
    "for s in series:\n",
    "    header = s.name\n",
    "    s = normalize(s)\n",
    "    s = s.diff().fillna(method=\"bfill\")\n",
    "    s = variance_correct(s).fillna(method=\"bfill\")\n",
    "    s = s.replace([np.inf, -np.inf], np.nan).dropna()\n",
    "    s.name = header\n",
    "    nseries.append(s)\n",
    "    adf_test(s)\n",
    "    print('Sample size: %s' %len(s))\n",
    "\n",
    "fig = plt.figure(figsize=(16,4))\n",
    "\n",
    "plt.subplot(1,3,1)\n",
    "plt.hist(nseries[0])\n",
    "plt.title('MSCI Financials F12 EPS')\n",
    "plt.ylabel('Count')\n",
    "\n",
    "plt.subplot(1,3,2)\n",
    "plt.hist(nseries[1])\n",
    "plt.title('MSCI Financials F12 P/B')\n",
    "plt.ylabel('Count')\n",
    "\n",
    "plt.subplot(1,3,3)\n",
    "plt.hist(nseries[2])\n",
    "plt.title('Reverse Repurchase Rate')\n",
    "plt.ylabel('Count')\n",
    "\n",
    "plt.show()"
   ]
  },
  {
   "cell_type": "code",
   "execution_count": null,
   "metadata": {},
   "outputs": [],
   "source": [
    "def granger(s1, s2, lag=4):\n",
    "    granger_df = pd.concat([s1, s2], axis=1).dropna()\n",
    "    grangercausalitytests(granger_df, lag)\n",
    "\n",
    "print('Testing causality\\n')\n",
    "granger(nseries[0],nseries[2])\n",
    "print('\\n-----------------------------------------------\\n')\n",
    "granger(nseries[2],nseries[0])\n",
    "print('\\n-----------------------------------------------\\n')\n",
    "granger(nseries[1],nseries[2])\n",
    "print('\\n-----------------------------------------------\\n')\n",
    "granger(nseries[2],nseries[1])\n"
   ]
  },
  {
   "cell_type": "markdown",
   "metadata": {},
   "source": [
    "**Conclusion: Low F-statistic for every lag means that reverse repurchase rate and MSCI EPS don't cause each other.**"
   ]
  },
  {
   "cell_type": "code",
   "execution_count": null,
   "metadata": {},
   "outputs": [],
   "source": [
    "# Plotting partial autocorrelation\n",
    "\n",
    "fig = plt.figure(figsize=(16,8))\n",
    "\n",
    "plt.plot(nseries[0], color='darkred', label='MSCI Financials F12 EPS')\n",
    "plt.plot(nseries[1], color='tab:blue', label='Reverse Repurchase Rate')\n",
    "plt.title('Corrected data')\n",
    "plt.legend()\n",
    "plt.xlabel('Quarters')\n",
    "plt.axhline(linewidth=1, linestyle='dashed', color='k')\n",
    "plt.show()"
   ]
  },
  {
   "cell_type": "code",
   "execution_count": null,
   "metadata": {},
   "outputs": [],
   "source": [
    "# Checking for cross-correlation\n",
    "\n",
    "for lag in range(1,14):\n",
    "    s_eps = series[0].iloc[lag:]\n",
    "    s_pol = series[1].iloc[:-lag]\n",
    "    print('Lag %s' %lag)\n",
    "    print(pearsonr(s_eps, s_pol))\n",
    "    print('--------')"
   ]
  },
  {
   "cell_type": "code",
   "execution_count": null,
   "metadata": {},
   "outputs": [],
   "source": [
    "### AUTOMATE MODEL SELECTION\n",
    "def fit_tsmodel(data, model='VAR', lags=4):\n",
    "    models = ['VAR','SARIMAX']\n",
    "\n",
    "    if model in models:\n",
    "        if model == models[0]:\n",
    "            model = VAR\n",
    "        elif model == models[1]:\n",
    "            model == SARIMAX\n",
    "    else:\n",
    "        print('Model not supported')\n",
    "        return None\n",
    "    \n",
    "    fmodel = model(data)          \n",
    "    res = fmodel.fit(maxlags=lags)\n",
    "    return res"
   ]
  },
  {
   "cell_type": "code",
   "execution_count": null,
   "metadata": {},
   "outputs": [],
   "source": [
    "def create_df(*series):\n",
    "    df = pd.concat(series, axis=1).dropna()\n",
    "    n = []\n",
    "    for i in series:\n",
    "        n.append(i.name)\n",
    "    df.columns = n\n",
    "    return df\n",
    "\n",
    "st_policy = nseries[2]\n",
    "st_eps = nseries[0]\n",
    "st_pb = nseries[1]\n",
    "\n",
    "fdf = create_df(st_policy, st_eps)\n",
    "res = fit_tsmodel(fdf,lags=12)\n",
    "res.summary()"
   ]
  },
  {
   "cell_type": "code",
   "execution_count": null,
   "metadata": {},
   "outputs": [],
   "source": [
    "r2_score(res.fittedvalues['M1PRNFL']+res.resid['M1PRNFL'],\n",
    "  res.fittedvalues['M1PRNFL'])"
   ]
  },
  {
   "cell_type": "code",
   "execution_count": null,
   "metadata": {},
   "outputs": [],
   "source": [
    "irf = res.irf(10)\n",
    "irf.plot(orth=False, impulse='rr_rate')"
   ]
  },
  {
   "cell_type": "code",
   "execution_count": null,
   "metadata": {},
   "outputs": [],
   "source": []
  }
 ],
 "metadata": {
  "kernelspec": {
   "display_name": "Python 3",
   "language": "python",
   "name": "python3"
  },
  "language_info": {
   "codemirror_mode": {
    "name": "ipython",
    "version": 3
   },
   "file_extension": ".py",
   "mimetype": "text/x-python",
   "name": "python",
   "nbconvert_exporter": "python",
   "pygments_lexer": "ipython3",
   "version": "3.7.3"
  }
 },
 "nbformat": 4,
 "nbformat_minor": 2
}
